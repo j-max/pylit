{
 "cells": [
  {
   "cell_type": "code",
   "execution_count": 18,
   "metadata": {},
   "outputs": [
    {
     "name": "stdout",
     "output_type": "stream",
     "text": [
      "The autoreload extension is already loaded. To reload it, use:\n",
      "  %reload_ext autoreload\n"
     ]
    }
   ],
   "source": [
    "%load_ext autoreload\n",
    "%autoreload 2\n",
    "# imports\n",
    "import sys\n",
    "\n",
    "import nltk\n",
    "import numpy as np\n",
    "\n",
    "# Jupyter notebook paths are relative to the file location\n",
    "# add the path to the root folder\n",
    "sys.path.append(\"..\")\n",
    "\n",
    "from documents import Document"
   ]
  },
  {
   "cell_type": "code",
   "execution_count": 3,
   "metadata": {},
   "outputs": [
    {
     "name": "stderr",
     "output_type": "stream",
     "text": [
      "[nltk_data] Downloading package gutenberg to\n",
      "[nltk_data]     /Users/johnbarry/nltk_data...\n",
      "[nltk_data]   Unzipping corpora/gutenberg.zip.\n"
     ]
    },
    {
     "data": {
      "text/plain": [
       "True"
      ]
     },
     "execution_count": 3,
     "metadata": {},
     "output_type": "execute_result"
    }
   ],
   "source": [
    "nltk.download('gutenberg')"
   ]
  },
  {
   "cell_type": "markdown",
   "metadata": {},
   "source": [
    "# Jane Austin"
   ]
  },
  {
   "cell_type": "markdown",
   "metadata": {},
   "source": [
    "# Emma"
   ]
  },
  {
   "cell_type": "code",
   "execution_count": 4,
   "metadata": {},
   "outputs": [],
   "source": [
    "# read in the raw text of emma \n",
    "emma = nltk.corpus.gutenberg.raw(\"austen-emma.txt\")\n"
   ]
  },
  {
   "cell_type": "code",
   "execution_count": 5,
   "metadata": {},
   "outputs": [],
   "source": [
    "emma_doc = Document(\n",
    "    read_in_file=False,\n",
    "    document_string=emma\n",
    ")"
   ]
  },
  {
   "cell_type": "code",
   "execution_count": 7,
   "metadata": {},
   "outputs": [
    {
     "name": "stdout",
     "output_type": "stream",
     "text": [
      "  doc_name  word_count  sentence_count  \\\n",
      "0               161983            7493   \n",
      "\n",
      "                                    longest_sentence most_common_word  \\\n",
      "0  While he lived, it must be only an engagement;...               to   \n",
      "\n",
      "   question_count  total sentiment  \n",
      "0             419        1295.1479  \n"
     ]
    },
    {
     "data": {
      "text/plain": [
       "{'doc_name': [''],\n",
       " 'word_count': [161983],\n",
       " 'sentence_count': [7493],\n",
       " 'longest_sentence': [\"While he lived, it must be only an engagement;\\nbut she flattered herself, that if divested of the danger of\\ndrawing her away, it might become an increase of comfort to him.--\\nHow to do her best by Harriet, was of more difficult decision;--\\nhow to spare her from any unnecessary pain; how to make\\nher any possible atonement; how to appear least her enemy?--\\nOn these subjects, her perplexity and distress were very great--\\nand her mind had to pass again and again through every bitter\\nreproach and sorrowful regret that had ever surrounded it.--\\nShe could only resolve at last, that she would still avoid a\\nmeeting with her, and communicate all that need be told by letter;\\nthat it would be inexpressibly desirable to have her removed just\\nnow for a time from Highbury, and--indulging in one scheme more--\\nnearly resolve, that it might be practicable to get an invitation\\nfor her to Brunswick Square.--Isabella had been pleased with Harriet;\\nand a few weeks spent in London must give her some amusement.--\\nShe did not think it in Harriet's nature to escape being benefited\\nby novelty and variety, by the streets, the shops, and the children.--\\nAt any rate, it would be a proof of attention and kindness in herself,\\nfrom whom every thing was due; a separation for the present; an averting\\nof the evil day, when they must all be together again.\"],\n",
       " 'most_common_word': ['to'],\n",
       " 'question_count': [419],\n",
       " 'total sentiment': [1295.1479]}"
      ]
     },
     "execution_count": 7,
     "metadata": {},
     "output_type": "execute_result"
    }
   ],
   "source": [
    "emma_doc.describe()"
   ]
  },
  {
   "cell_type": "code",
   "execution_count": null,
   "metadata": {},
   "outputs": [
    {
     "data": {
      "text/plain": [
       "'\"I have scarce had the pleasure of seeing you, Miss Woodhouse,\"\\nshe shortly afterwards began, \"since the party to Box Hill.'"
      ]
     },
     "execution_count": 22,
     "metadata": {},
     "output_type": "execute_result"
    }
   ],
   "source": [
    "random_sentence_index = np.random.randint(len(emma_doc.sentences))\n",
    "emma_doc.sentences[random_sentence_index].sentence_stringxs"
   ]
  }
 ],
 "metadata": {
  "kernelspec": {
   "display_name": "pylit",
   "language": "python",
   "name": "python3"
  },
  "language_info": {
   "codemirror_mode": {
    "name": "ipython",
    "version": 3
   },
   "file_extension": ".py",
   "mimetype": "text/x-python",
   "name": "python",
   "nbconvert_exporter": "python",
   "pygments_lexer": "ipython3",
   "version": "3.13.0"
  }
 },
 "nbformat": 4,
 "nbformat_minor": 2
}

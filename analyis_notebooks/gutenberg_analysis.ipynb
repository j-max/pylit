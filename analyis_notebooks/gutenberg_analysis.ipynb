{
 "cells": [
  {
   "cell_type": "code",
   "execution_count": 47,
   "metadata": {},
   "outputs": [
    {
     "name": "stdout",
     "output_type": "stream",
     "text": [
      "The autoreload extension is already loaded. To reload it, use:\n",
      "  %reload_ext autoreload\n"
     ]
    }
   ],
   "source": [
    "%load_ext autoreload\n",
    "%autoreload 2\n",
    "# imports\n",
    "import os\n",
    "import sys\n",
    "\n",
    "import nltk\n",
    "import numpy as np\n",
    "\n",
    "# Jupyter notebook paths are relative to the file location\n",
    "# add the path to the root folder\n",
    "sys.path.append(\"..\")\n",
    "\n",
    "from documents import Document"
   ]
  },
  {
   "cell_type": "code",
   "execution_count": 48,
   "metadata": {},
   "outputs": [
    {
     "name": "stderr",
     "output_type": "stream",
     "text": [
      "[nltk_data] Downloading package gutenberg to\n",
      "[nltk_data]     /Users/johnbarry/nltk_data...\n",
      "[nltk_data]   Package gutenberg is already up-to-date!\n"
     ]
    },
    {
     "data": {
      "text/plain": [
       "True"
      ]
     },
     "execution_count": 48,
     "metadata": {},
     "output_type": "execute_result"
    }
   ],
   "source": [
    "nltk.download('gutenberg')"
   ]
  },
  {
   "cell_type": "code",
   "execution_count": 49,
   "metadata": {},
   "outputs": [
    {
     "data": {
      "text/plain": [
       "['blake-poems.txt',\n",
       " 'carroll-alice.txt',\n",
       " 'shakespeare-caesar.txt',\n",
       " 'whitman-leaves.txt',\n",
       " 'milton-paradise.txt',\n",
       " 'bible-kjv.txt',\n",
       " 'README',\n",
       " 'austen-persuasion.txt',\n",
       " 'melville-moby_dick.txt',\n",
       " 'edgeworth-parents.txt',\n",
       " 'chesterton-thursday.txt',\n",
       " 'burgess-busterbrown.txt',\n",
       " 'chesterton-ball.txt',\n",
       " 'austen-emma.txt',\n",
       " 'chesterton-brown.txt',\n",
       " 'shakespeare-hamlet.txt',\n",
       " 'austen-sense.txt',\n",
       " 'shakespeare-macbeth.txt',\n",
       " 'bryant-stories.txt']"
      ]
     },
     "execution_count": 49,
     "metadata": {},
     "output_type": "execute_result"
    }
   ],
   "source": [
    "gutenberg_directory = \"/Users/johnbarry/nltk_data/corpora/gutenberg/\"\n",
    "os.listdir(gutenberg_directory)"
   ]
  },
  {
   "cell_type": "markdown",
   "metadata": {},
   "source": [
    "# Jane Austen"
   ]
  },
  {
   "cell_type": "code",
   "execution_count": 50,
   "metadata": {},
   "outputs": [],
   "source": [
    "austen_books = [\n",
    "    'austen-persuasion.txt',\n",
    "    'austen-emma.txt',\n",
    "    'austen-sense.txt',\n",
    "]"
   ]
  },
  {
   "cell_type": "code",
   "execution_count": 51,
   "metadata": {},
   "outputs": [],
   "source": [
    "austen_docs = {}\n",
    "for book in austen_books:\n",
    "    austen_docs[book] = Document(\n",
    "        path_to_document=gutenberg_directory+book,\n",
    "        create_sentences=True\n",
    "        )"
   ]
  },
  {
   "cell_type": "code",
   "execution_count": 52,
   "metadata": {},
   "outputs": [
    {
     "data": {
      "text/plain": [
       "{'austen-persuasion.txt': <documents.Document at 0x127614ad0>,\n",
       " 'austen-emma.txt': <documents.Document at 0x1373db390>,\n",
       " 'austen-sense.txt': <documents.Document at 0x1400b3b10>}"
      ]
     },
     "execution_count": 52,
     "metadata": {},
     "output_type": "execute_result"
    }
   ],
   "source": [
    "austen_docs"
   ]
  },
  {
   "cell_type": "code",
   "execution_count": 53,
   "metadata": {},
   "outputs": [
    {
     "name": "stdout",
     "output_type": "stream",
     "text": [
      "austen-persuasion.txt: 84167\n",
      "austen-emma.txt: 161983\n",
      "austen-sense.txt: 120787\n"
     ]
    }
   ],
   "source": [
    "# Enna us tge longest book in the the Guttenberg corpus\n",
    "for book in austen_docs:\n",
    "    print(book + \": \" + str(austen_docs[book].word_count))"
   ]
  },
  {
   "cell_type": "markdown",
   "metadata": {},
   "source": [
    "# Sentiment"
   ]
  },
  {
   "cell_type": "code",
   "execution_count": 55,
   "metadata": {},
   "outputs": [
    {
     "name": "stdout",
     "output_type": "stream",
     "text": [
      "austen-persuasion.txt: 0.1747302134646962\n",
      "austen-emma.txt: 0.1728477111971173\n",
      "austen-sense.txt: 0.16581915994206498\n"
     ]
    }
   ],
   "source": [
    "# Sense and Sensibility is slightly less positive than Emma and Persuasion\n",
    "for book in austen_docs:\n",
    "    print(book + \": \" + str(austen_docs[book].avg_sentiment))"
   ]
  },
  {
   "cell_type": "code",
   "execution_count": null,
   "metadata": {},
   "outputs": [],
   "source": [
    "    "
   ]
  }
 ],
 "metadata": {
  "kernelspec": {
   "display_name": "pylit",
   "language": "python",
   "name": "python3"
  },
  "language_info": {
   "codemirror_mode": {
    "name": "ipython",
    "version": 3
   },
   "file_extension": ".py",
   "mimetype": "text/x-python",
   "name": "python",
   "nbconvert_exporter": "python",
   "pygments_lexer": "ipython3",
   "version": "3.13.0"
  }
 },
 "nbformat": 4,
 "nbformat_minor": 2
}
